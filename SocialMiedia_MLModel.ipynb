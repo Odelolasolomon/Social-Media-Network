{
 "cells": [
  {
   "cell_type": "markdown",
   "id": "9776bd34",
   "metadata": {},
   "source": [
    "## Table of contents\n",
    "- [1 - Problem Statement](#1)\n",
    "- [2 - What spells success for this project](#2)\n",
    "- [3 - Feature Engineering/Data Preprocessing](#3)\n",
    "- [3.1 - Feature selection](#3.1)\n",
    "- [4 - ML Modeling](#4)\n",
    "- [5 - Hyper parameter optimization](#5)"
   ]
  },
  {
   "cell_type": "markdown",
   "id": "da9ae437",
   "metadata": {},
   "source": [
    "<a name='1'></a>\n",
    "## Problem statement\n",
    "**Playhouse Communication is one of Nigeria's leading digital marketing agencies. They combine design and media planning with cutting-edge tech solutions to reimagine what marketing is all about. Their client roster is a mix of global juggernauts and nimble SMEs, each redefining their sectors.**\n",
    "\n",
    "**Playhouse Communication Ltd. is eager to see the innovative solutions that the researcher will bring to the table**"
   ]
  },
  {
   "cell_type": "markdown",
   "id": "738698ec",
   "metadata": {},
   "source": [
    "<a name='2'></a>\n",
    "## What spells success for this project\n",
    "- create new and more important features\n",
    "- Build more than 3 machine learning models that can predict the best network \n",
    "- identify the best model for real life production\n",
    "- Deploy the model for real life usage or production."
   ]
  },
  {
   "cell_type": "markdown",
   "id": "a492df59",
   "metadata": {},
   "source": [
    "<a name='3'></a>\n",
    "## Feature engineering/Data preprocessing"
   ]
  },
  {
   "cell_type": "code",
   "execution_count": 1,
   "id": "954e41c9",
   "metadata": {},
   "outputs": [],
   "source": [
    "import pandas as pd \n",
    "import numpy as np\n",
    "import seaborn as sns\n",
    "import matplotlib.pyplot as plt\n",
    "%matplotlib inline\n",
    "from sklearn.linear_model import LogisticRegression\n",
    "from sklearn.ensemble import RandomForestClassifier\n",
    "from sklearn.tree import DecisionTreeClassifier\n",
    "from xgboost import  XGBRFClassifier\n",
    "from sklearn.metrics import classification_report,accuracy_score,confusion_matrix\n",
    "from sklearn.preprocessing import StandardScaler\n",
    "from warnings import filterwarnings"
   ]
  },
  {
   "cell_type": "code",
   "execution_count": 2,
   "id": "21e580ea",
   "metadata": {},
   "outputs": [
    {
     "data": {
      "text/html": [
       "<div>\n",
       "<style scoped>\n",
       "    .dataframe tbody tr th:only-of-type {\n",
       "        vertical-align: middle;\n",
       "    }\n",
       "\n",
       "    .dataframe tbody tr th {\n",
       "        vertical-align: top;\n",
       "    }\n",
       "\n",
       "    .dataframe thead th {\n",
       "        text-align: right;\n",
       "    }\n",
       "</style>\n",
       "<table border=\"1\" class=\"dataframe\">\n",
       "  <thead>\n",
       "    <tr style=\"text-align: right;\">\n",
       "      <th></th>\n",
       "      <th>Unnamed: 0</th>\n",
       "      <th>Date</th>\n",
       "      <th>Network</th>\n",
       "      <th>Post Type</th>\n",
       "      <th>Content Type</th>\n",
       "      <th>Profile</th>\n",
       "      <th>Sent by</th>\n",
       "      <th>Post</th>\n",
       "      <th>platform</th>\n",
       "      <th>Impressions</th>\n",
       "      <th>...</th>\n",
       "      <th>Organic Video View Time (Seconds)</th>\n",
       "      <th>Paid Video View Time (Seconds)</th>\n",
       "      <th>Unique Video Views</th>\n",
       "      <th>Unique Organic Video Views</th>\n",
       "      <th>Unique Paid Video Views</th>\n",
       "      <th>Unique 10-Second Video Views</th>\n",
       "      <th>Unique Full Video Views</th>\n",
       "      <th>Unique Organic 95% Video Views</th>\n",
       "      <th>Unique Paid 95% Video Views</th>\n",
       "      <th>Poll Votes</th>\n",
       "    </tr>\n",
       "  </thead>\n",
       "  <tbody>\n",
       "    <tr>\n",
       "      <th>0</th>\n",
       "      <td>0</td>\n",
       "      <td>12/17/2022 5:08 pm</td>\n",
       "      <td>Facebook</td>\n",
       "      <td>Post</td>\n",
       "      <td>Video</td>\n",
       "      <td>Stanbic IBTC</td>\n",
       "      <td>Damilare Oyekanmi</td>\n",
       "      <td>We celebrated recently with Novare, one of our...</td>\n",
       "      <td>facebook</td>\n",
       "      <td>525.0</td>\n",
       "      <td>...</td>\n",
       "      <td>416.44</td>\n",
       "      <td>0.0</td>\n",
       "      <td>975.0</td>\n",
       "      <td>975.0</td>\n",
       "      <td>0.0</td>\n",
       "      <td>263.0</td>\n",
       "      <td>62.0</td>\n",
       "      <td>19.0</td>\n",
       "      <td>0.0</td>\n",
       "      <td>653.0</td>\n",
       "    </tr>\n",
       "    <tr>\n",
       "      <th>1</th>\n",
       "      <td>1</td>\n",
       "      <td>5/4/2019 10:01 am</td>\n",
       "      <td>Facebook</td>\n",
       "      <td>Post</td>\n",
       "      <td>Photo</td>\n",
       "      <td>Stanbic IBTC</td>\n",
       "      <td></td>\n",
       "      <td>N5k can get you started today. Call 01 280 126...</td>\n",
       "      <td>facebook</td>\n",
       "      <td>525.0</td>\n",
       "      <td>...</td>\n",
       "      <td>416.44</td>\n",
       "      <td>0.0</td>\n",
       "      <td>149.0</td>\n",
       "      <td>149.0</td>\n",
       "      <td>0.0</td>\n",
       "      <td>65.0</td>\n",
       "      <td>36.0</td>\n",
       "      <td>21.0</td>\n",
       "      <td>0.0</td>\n",
       "      <td>653.0</td>\n",
       "    </tr>\n",
       "    <tr>\n",
       "      <th>2</th>\n",
       "      <td>2</td>\n",
       "      <td>6/2/2020 9:00 pm</td>\n",
       "      <td>Facebook</td>\n",
       "      <td>Post</td>\n",
       "      <td>Photo</td>\n",
       "      <td>Stanbic IBTC</td>\n",
       "      <td></td>\n",
       "      <td>Still not sure whether to invest in the FGN Bo...</td>\n",
       "      <td>facebook</td>\n",
       "      <td>525.0</td>\n",
       "      <td>...</td>\n",
       "      <td>416.44</td>\n",
       "      <td>0.0</td>\n",
       "      <td>149.0</td>\n",
       "      <td>149.0</td>\n",
       "      <td>0.0</td>\n",
       "      <td>65.0</td>\n",
       "      <td>36.0</td>\n",
       "      <td>21.0</td>\n",
       "      <td>0.0</td>\n",
       "      <td>653.0</td>\n",
       "    </tr>\n",
       "  </tbody>\n",
       "</table>\n",
       "<p>3 rows × 110 columns</p>\n",
       "</div>"
      ],
      "text/plain": [
       "   Unnamed: 0                Date   Network Post Type Content Type  \\\n",
       "0           0  12/17/2022 5:08 pm  Facebook      Post        Video   \n",
       "1           1   5/4/2019 10:01 am  Facebook      Post        Photo   \n",
       "2           2    6/2/2020 9:00 pm  Facebook      Post        Photo   \n",
       "\n",
       "        Profile            Sent by  \\\n",
       "0  Stanbic IBTC  Damilare Oyekanmi   \n",
       "1  Stanbic IBTC                      \n",
       "2  Stanbic IBTC                      \n",
       "\n",
       "                                                Post  platform  Impressions  \\\n",
       "0  We celebrated recently with Novare, one of our...  facebook        525.0   \n",
       "1  N5k can get you started today. Call 01 280 126...  facebook        525.0   \n",
       "2  Still not sure whether to invest in the FGN Bo...  facebook        525.0   \n",
       "\n",
       "   ...  Organic Video View Time (Seconds)  Paid Video View Time (Seconds)  \\\n",
       "0  ...                             416.44                             0.0   \n",
       "1  ...                             416.44                             0.0   \n",
       "2  ...                             416.44                             0.0   \n",
       "\n",
       "   Unique Video Views  Unique Organic Video Views  Unique Paid Video Views  \\\n",
       "0               975.0                       975.0                      0.0   \n",
       "1               149.0                       149.0                      0.0   \n",
       "2               149.0                       149.0                      0.0   \n",
       "\n",
       "   Unique 10-Second Video Views  Unique Full Video Views  \\\n",
       "0                         263.0                     62.0   \n",
       "1                          65.0                     36.0   \n",
       "2                          65.0                     36.0   \n",
       "\n",
       "   Unique Organic 95% Video Views  Unique Paid 95% Video Views  Poll Votes  \n",
       "0                            19.0                          0.0       653.0  \n",
       "1                            21.0                          0.0       653.0  \n",
       "2                            21.0                          0.0       653.0  \n",
       "\n",
       "[3 rows x 110 columns]"
      ]
     },
     "execution_count": 2,
     "metadata": {},
     "output_type": "execute_result"
    }
   ],
   "source": [
    "#read in the data\n",
    "data= pd.read_csv('cleaned_data_for_ml_modeling.csv')\n",
    "data.head(3)"
   ]
  },
  {
   "cell_type": "code",
   "execution_count": 3,
   "id": "ecb2cc98",
   "metadata": {},
   "outputs": [
    {
     "data": {
      "text/plain": [
       "(36092, 105)"
      ]
     },
     "execution_count": 3,
     "metadata": {},
     "output_type": "execute_result"
    }
   ],
   "source": [
    "data=data.drop(columns=['Date','Profile','Sent by','Post Type','Post'],axis=1)\n",
    "data.shape"
   ]
  },
  {
   "cell_type": "code",
   "execution_count": 4,
   "id": "bfa99575",
   "metadata": {},
   "outputs": [
    {
     "data": {
      "text/plain": [
       "Unnamed: 0                        0\n",
       "Network                           0\n",
       "Content Type                      0\n",
       "platform                          0\n",
       "Impressions                       0\n",
       "                                 ..\n",
       "Unique 10-Second Video Views      0\n",
       "Unique Full Video Views           0\n",
       "Unique Organic 95% Video Views    0\n",
       "Unique Paid 95% Video Views       0\n",
       "Poll Votes                        0\n",
       "Length: 105, dtype: int64"
      ]
     },
     "execution_count": 4,
     "metadata": {},
     "output_type": "execute_result"
    }
   ],
   "source": [
    "#check for missing values\n",
    "data.isnull().sum()"
   ]
  },
  {
   "cell_type": "code",
   "execution_count": 5,
   "id": "cbabed7b",
   "metadata": {},
   "outputs": [
    {
     "data": {
      "text/plain": [
       "0"
      ]
     },
     "execution_count": 5,
     "metadata": {},
     "output_type": "execute_result"
    }
   ],
   "source": [
    "#check for duplicates\n",
    "data.duplicated().sum()"
   ]
  },
  {
   "cell_type": "code",
   "execution_count": 6,
   "id": "88b0d822",
   "metadata": {},
   "outputs": [
    {
     "data": {
      "text/plain": [
       "0"
      ]
     },
     "execution_count": 6,
     "metadata": {},
     "output_type": "execute_result"
    }
   ],
   "source": [
    "#drop and check for duplictes again\n",
    "data.drop_duplicates(inplace=True)\n",
    "data.duplicated().sum()"
   ]
  },
  {
   "cell_type": "code",
   "execution_count": 7,
   "id": "cb58a5e5",
   "metadata": {},
   "outputs": [
    {
     "data": {
      "text/plain": [
       "Unnamed: 0                          int64\n",
       "Network                            object\n",
       "Content Type                       object\n",
       "platform                           object\n",
       "Impressions                       float64\n",
       "                                   ...   \n",
       "Unique 10-Second Video Views      float64\n",
       "Unique Full Video Views           float64\n",
       "Unique Organic 95% Video Views    float64\n",
       "Unique Paid 95% Video Views       float64\n",
       "Poll Votes                        float64\n",
       "Length: 105, dtype: object"
      ]
     },
     "execution_count": 7,
     "metadata": {},
     "output_type": "execute_result"
    }
   ],
   "source": [
    "data.dtypes"
   ]
  },
  {
   "cell_type": "code",
   "execution_count": 8,
   "id": "f20404d7",
   "metadata": {},
   "outputs": [
    {
     "data": {
      "text/plain": [
       "Index(['Network', 'Content Type', 'platform'], dtype='object')"
      ]
     },
     "execution_count": 8,
     "metadata": {},
     "output_type": "execute_result"
    }
   ],
   "source": [
    "obj_data=data.select_dtypes(exclude=[np.number])\n",
    "obj_data.columns"
   ]
  },
  {
   "cell_type": "code",
   "execution_count": 9,
   "id": "8d4bb184",
   "metadata": {},
   "outputs": [],
   "source": [
    "data=data.drop(columns=['platform'],axis=1)"
   ]
  },
  {
   "cell_type": "code",
   "execution_count": 10,
   "id": "1cceeed7",
   "metadata": {},
   "outputs": [
    {
     "data": {
      "text/html": [
       "<div>\n",
       "<style scoped>\n",
       "    .dataframe tbody tr th:only-of-type {\n",
       "        vertical-align: middle;\n",
       "    }\n",
       "\n",
       "    .dataframe tbody tr th {\n",
       "        vertical-align: top;\n",
       "    }\n",
       "\n",
       "    .dataframe thead th {\n",
       "        text-align: right;\n",
       "    }\n",
       "</style>\n",
       "<table border=\"1\" class=\"dataframe\">\n",
       "  <thead>\n",
       "    <tr style=\"text-align: right;\">\n",
       "      <th></th>\n",
       "      <th>Unnamed: 0</th>\n",
       "      <th>Network</th>\n",
       "      <th>Content Type</th>\n",
       "      <th>Impressions</th>\n",
       "      <th>Organic Impressions</th>\n",
       "      <th>Viral Impressions</th>\n",
       "      <th>Non-viral Impressions</th>\n",
       "      <th>Paid Impressions</th>\n",
       "      <th>Fan Impressions</th>\n",
       "      <th>Fan Organic Impressions</th>\n",
       "      <th>...</th>\n",
       "      <th>Organic Video View Time (Seconds)</th>\n",
       "      <th>Paid Video View Time (Seconds)</th>\n",
       "      <th>Unique Video Views</th>\n",
       "      <th>Unique Organic Video Views</th>\n",
       "      <th>Unique Paid Video Views</th>\n",
       "      <th>Unique 10-Second Video Views</th>\n",
       "      <th>Unique Full Video Views</th>\n",
       "      <th>Unique Organic 95% Video Views</th>\n",
       "      <th>Unique Paid 95% Video Views</th>\n",
       "      <th>Poll Votes</th>\n",
       "    </tr>\n",
       "  </thead>\n",
       "  <tbody>\n",
       "    <tr>\n",
       "      <th>0</th>\n",
       "      <td>0</td>\n",
       "      <td>Facebook</td>\n",
       "      <td>Video</td>\n",
       "      <td>525.0</td>\n",
       "      <td>525.0</td>\n",
       "      <td>5.0</td>\n",
       "      <td>0.0</td>\n",
       "      <td>0.0</td>\n",
       "      <td>0.0</td>\n",
       "      <td>0.0</td>\n",
       "      <td>...</td>\n",
       "      <td>416.44</td>\n",
       "      <td>0.0</td>\n",
       "      <td>975.0</td>\n",
       "      <td>975.0</td>\n",
       "      <td>0.0</td>\n",
       "      <td>263.0</td>\n",
       "      <td>62.0</td>\n",
       "      <td>19.0</td>\n",
       "      <td>0.0</td>\n",
       "      <td>653.0</td>\n",
       "    </tr>\n",
       "    <tr>\n",
       "      <th>1</th>\n",
       "      <td>1</td>\n",
       "      <td>Facebook</td>\n",
       "      <td>Photo</td>\n",
       "      <td>525.0</td>\n",
       "      <td>525.0</td>\n",
       "      <td>44.0</td>\n",
       "      <td>0.0</td>\n",
       "      <td>0.0</td>\n",
       "      <td>0.0</td>\n",
       "      <td>0.0</td>\n",
       "      <td>...</td>\n",
       "      <td>416.44</td>\n",
       "      <td>0.0</td>\n",
       "      <td>149.0</td>\n",
       "      <td>149.0</td>\n",
       "      <td>0.0</td>\n",
       "      <td>65.0</td>\n",
       "      <td>36.0</td>\n",
       "      <td>21.0</td>\n",
       "      <td>0.0</td>\n",
       "      <td>653.0</td>\n",
       "    </tr>\n",
       "  </tbody>\n",
       "</table>\n",
       "<p>2 rows × 104 columns</p>\n",
       "</div>"
      ],
      "text/plain": [
       "   Unnamed: 0   Network Content Type  Impressions  Organic Impressions  \\\n",
       "0           0  Facebook        Video        525.0                525.0   \n",
       "1           1  Facebook        Photo        525.0                525.0   \n",
       "\n",
       "   Viral Impressions  Non-viral Impressions  Paid Impressions  \\\n",
       "0                5.0                    0.0               0.0   \n",
       "1               44.0                    0.0               0.0   \n",
       "\n",
       "   Fan Impressions  Fan Organic Impressions  ...  \\\n",
       "0              0.0                      0.0  ...   \n",
       "1              0.0                      0.0  ...   \n",
       "\n",
       "   Organic Video View Time (Seconds)  Paid Video View Time (Seconds)  \\\n",
       "0                             416.44                             0.0   \n",
       "1                             416.44                             0.0   \n",
       "\n",
       "   Unique Video Views  Unique Organic Video Views  Unique Paid Video Views  \\\n",
       "0               975.0                       975.0                      0.0   \n",
       "1               149.0                       149.0                      0.0   \n",
       "\n",
       "   Unique 10-Second Video Views  Unique Full Video Views  \\\n",
       "0                         263.0                     62.0   \n",
       "1                          65.0                     36.0   \n",
       "\n",
       "   Unique Organic 95% Video Views  Unique Paid 95% Video Views  Poll Votes  \n",
       "0                            19.0                          0.0       653.0  \n",
       "1                            21.0                          0.0       653.0  \n",
       "\n",
       "[2 rows x 104 columns]"
      ]
     },
     "execution_count": 10,
     "metadata": {},
     "output_type": "execute_result"
    }
   ],
   "source": [
    "data.head(2)"
   ]
  },
  {
   "cell_type": "code",
   "execution_count": 11,
   "id": "0dd4d92f",
   "metadata": {},
   "outputs": [],
   "source": [
    "data=data.drop(columns=['Unnamed: 0'],axis=1)"
   ]
  },
  {
   "cell_type": "code",
   "execution_count": 12,
   "id": "60819c81",
   "metadata": {},
   "outputs": [
    {
     "name": "stdout",
     "output_type": "stream",
     "text": [
      "0 Network\n",
      "1 Content Type\n",
      "2 Impressions\n",
      "3 Organic Impressions\n",
      "4 Viral Impressions\n",
      "5 Non-viral Impressions\n",
      "6 Paid Impressions\n",
      "7 Fan Impressions\n",
      "8 Fan Organic Impressions\n",
      "9 Fan Paid Impressions\n",
      "10 Non-fan Impressions\n",
      "11 Non-fan Organic Impressions\n",
      "12 Non-fan Paid Impressions\n",
      "13 Reach\n",
      "14 Organic Reach\n",
      "15 Viral Reach\n",
      "16 Non-viral Reach\n",
      "17 Paid Reach\n",
      "18 Fan Reach\n",
      "19 Fan Paid Reach\n",
      "20 Potential Reach\n",
      "21 Engagements\n",
      "22 Reactions\n",
      "23 Likes\n",
      "24 Love Reactions\n",
      "25 Haha Reactions\n",
      "26 Wow Reactions\n",
      "27 Sad Reactions\n",
      "28 Angry Reactions\n",
      "29 Comments\n",
      "30 Shares\n",
      "31 Saves\n",
      "32 Post Link Clicks\n",
      "33 Other Post Clicks\n",
      "34 Post Clicks (All)\n",
      "35 Post Media Clicks\n",
      "36 Post Hashtag Clicks\n",
      "37 Post Detail Expand Clicks\n",
      "38 Profile Clicks\n",
      "39 Post Photo View Clicks\n",
      "40 Post Video Play Clicks\n",
      "41 Other Engagements\n",
      "42 Answers\n",
      "43 App Engagements\n",
      "44 App Install Attempts\n",
      "45 App Opens\n",
      "46 Follows from Post\n",
      "47 Unfollows from Post\n",
      "48 Negative Feedback\n",
      "49 Engaged Users\n",
      "50 Engaged Fans\n",
      "51 Users Talking About This\n",
      "52 Unique Reactions\n",
      "53 Unique Comments\n",
      "54 Unique Shares\n",
      "55 Unique Answers\n",
      "56 Unique Post Clicks\n",
      "57 Unique Post Link Clicks\n",
      "58 Unique Post Photo View Clicks\n",
      "59 Unique Post Video Play Clicks\n",
      "60 Unique Other Post Clicks\n",
      "61 Unique Negative Feedback\n",
      "62 Video Views\n",
      "63 Media Views\n",
      "64 Organic Video Views\n",
      "65 Paid Video Views\n",
      "66 Partial Video Views\n",
      "67 Organic Partial Video Views\n",
      "68 Paid Partial Video Views\n",
      "69 Full Video Views\n",
      "70 Organic Full Video Views\n",
      "71 Paid Full Video Views\n",
      "72 Autoplay Video Views\n",
      "73 Click to Play Video Views\n",
      "74 Sound on Video Views\n",
      "75 Sound off Video Views\n",
      "76 10-Second Video Views\n",
      "77 Organic 10-Second Video Views\n",
      "78 Paid 10-Second Video Views\n",
      "79 Autoplay 10-Second Video Views\n",
      "80 Click to Play 10-Second Video Views\n",
      "81 Sound on 10-Second Video Views\n",
      "82 Sound off 10-Second Video Views\n",
      "83 Autoplay Partial Video Views\n",
      "84 Click to Play Partial Video Views\n",
      "85 Autoplay Full Video Views\n",
      "86 Click to Play Full Video Views\n",
      "87 95% Video Views\n",
      "88 Organic 95% Video Views\n",
      "89 Paid 95% Video Views\n",
      "90 Video Length (Seconds)\n",
      "91 Average Video Time Watched (Seconds)\n",
      "92 Video View Time (Seconds)\n",
      "93 Organic Video View Time (Seconds)\n",
      "94 Paid Video View Time (Seconds)\n",
      "95 Unique Video Views\n",
      "96 Unique Organic Video Views\n",
      "97 Unique Paid Video Views\n",
      "98 Unique 10-Second Video Views\n",
      "99 Unique Full Video Views\n",
      "100 Unique Organic 95% Video Views\n",
      "101 Unique Paid 95% Video Views\n",
      "102 Poll Votes\n"
     ]
    }
   ],
   "source": [
    "for i,v in enumerate(data.columns):\n",
    "    print(i,v)"
   ]
  },
  {
   "cell_type": "code",
   "execution_count": 13,
   "id": "c8d203bc",
   "metadata": {},
   "outputs": [],
   "source": [
    "dummies=pd.get_dummies(data['Content Type'],drop_first=True)\n",
    "data=pd.concat([data,dummies],axis=1)\n",
    "data=data.drop(columns=['Content Type'],axis=1)"
   ]
  },
  {
   "cell_type": "code",
   "execution_count": 14,
   "id": "ee80e6e3",
   "metadata": {},
   "outputs": [
    {
     "name": "stdout",
     "output_type": "stream",
     "text": [
      "        Network  Impressions  Organic Impressions  Viral Impressions  \\\n",
      "0      Facebook        525.0                525.0                5.0   \n",
      "1      Facebook        525.0                525.0               44.0   \n",
      "2      Facebook        525.0                525.0               44.0   \n",
      "3      Facebook        525.0                525.0              170.0   \n",
      "4      Facebook        525.0                525.0               44.0   \n",
      "...         ...          ...                  ...                ...   \n",
      "36085   Twitter        525.0                525.0               44.0   \n",
      "36086   Twitter        525.0                525.0               44.0   \n",
      "36087   Twitter        525.0                525.0               44.0   \n",
      "36088   Twitter        525.0                525.0               44.0   \n",
      "36089   Twitter        525.0                525.0               44.0   \n",
      "\n",
      "       Non-viral Impressions  Paid Impressions  Fan Impressions  \\\n",
      "0                        0.0               0.0              0.0   \n",
      "1                        0.0               0.0              0.0   \n",
      "2                        0.0               0.0              0.0   \n",
      "3                        0.0               0.0              0.0   \n",
      "4                        0.0               0.0              0.0   \n",
      "...                      ...               ...              ...   \n",
      "36085                    0.0               0.0              0.0   \n",
      "36086                    0.0               0.0              0.0   \n",
      "36087                    0.0               0.0              0.0   \n",
      "36088                    0.0               0.0              0.0   \n",
      "36089                    0.0               0.0              0.0   \n",
      "\n",
      "       Fan Organic Impressions  Fan Paid Impressions  Non-fan Impressions  \\\n",
      "0                          0.0                   0.0                381.0   \n",
      "1                          0.0                   0.0                381.0   \n",
      "2                          0.0                   0.0                381.0   \n",
      "3                          0.0                   0.0                381.0   \n",
      "4                          0.0                   0.0                381.0   \n",
      "...                        ...                   ...                  ...   \n",
      "36085                      0.0                   0.0                381.0   \n",
      "36086                      0.0                   0.0                381.0   \n",
      "36087                      0.0                   0.0                381.0   \n",
      "36088                      0.0                   0.0                381.0   \n",
      "36089                      0.0                   0.0                381.0   \n",
      "\n",
      "       ...  Unique Full Video Views  Unique Organic 95% Video Views  \\\n",
      "0      ...                     62.0                            19.0   \n",
      "1      ...                     36.0                            21.0   \n",
      "2      ...                     36.0                            21.0   \n",
      "3      ...                     36.0                            21.0   \n",
      "4      ...                     36.0                            21.0   \n",
      "...    ...                      ...                             ...   \n",
      "36085  ...                     36.0                            21.0   \n",
      "36086  ...                     36.0                            21.0   \n",
      "36087  ...                     36.0                            21.0   \n",
      "36088  ...                     36.0                            21.0   \n",
      "36089  ...                     36.0                            21.0   \n",
      "\n",
      "       Unique Paid 95% Video Views  Poll Votes  Document  Link  Photo  Poll  \\\n",
      "0                              0.0       653.0         0     0      0     0   \n",
      "1                              0.0       653.0         0     0      1     0   \n",
      "2                              0.0       653.0         0     0      1     0   \n",
      "3                              0.0       653.0         0     0      1     0   \n",
      "4                              0.0       653.0         0     0      1     0   \n",
      "...                            ...         ...       ...   ...    ...   ...   \n",
      "36085                          0.0       653.0         0     0      0     0   \n",
      "36086                          0.0       653.0         0     0      0     0   \n",
      "36087                          0.0       653.0         0     0      0     0   \n",
      "36088                          0.0       653.0         0     0      0     0   \n",
      "36089                          0.0       653.0         0     0      0     0   \n",
      "\n",
      "       Text  Video  \n",
      "0         0      1  \n",
      "1         0      0  \n",
      "2         0      0  \n",
      "3         0      0  \n",
      "4         0      0  \n",
      "...     ...    ...  \n",
      "36085     1      0  \n",
      "36086     1      0  \n",
      "36087     1      0  \n",
      "36088     1      0  \n",
      "36089     1      0  \n",
      "\n",
      "[31259 rows x 108 columns]\n"
     ]
    },
    {
     "name": "stderr",
     "output_type": "stream",
     "text": [
      "C:\\Users\\512GB\\AppData\\Local\\Temp\\ipykernel_18136\\2868051424.py:8: FutureWarning: Automatic reindexing on DataFrame vs Series comparisons is deprecated and will raise ValueError in a future version. Do `left, right = left.align(right, axis=1, copy=False)` before e.g. `left == right`\n",
      "  data_outliers = data[((data < (Q1 - 1.5 * IQR)) | (data > (Q3 + 1.5 * IQR))).any(axis=1)]\n"
     ]
    }
   ],
   "source": [
    "Q1 = data.quantile(0.25)\n",
    "Q3 = data.quantile(0.75)\n",
    "\n",
    "# Calculate IQR\n",
    "IQR = Q3 - Q1\n",
    "\n",
    "# Identify outliers using the IQR method\n",
    "data_outliers = data[((data < (Q1 - 1.5 * IQR)) | (data > (Q3 + 1.5 * IQR))).any(axis=1)]\n",
    "\n",
    "# Display the outliers\n",
    "print(data_outliers)"
   ]
  },
  {
   "cell_type": "code",
   "execution_count": 15,
   "id": "a544f8af",
   "metadata": {},
   "outputs": [
    {
     "name": "stderr",
     "output_type": "stream",
     "text": [
      "C:\\Users\\512GB\\AppData\\Local\\Temp\\ipykernel_18136\\978923583.py:2: FutureWarning: Automatic reindexing on DataFrame vs Series comparisons is deprecated and will raise ValueError in a future version. Do `left, right = left.align(right, axis=1, copy=False)` before e.g. `left == right`\n",
      "  data=data[-((data < (Q1-1.5 * IQR)) | (data > (Q3 + 1.5 * IQR))).any(axis=1)]\n"
     ]
    }
   ],
   "source": [
    "#filter off the outliers\n",
    "data=data[-((data < (Q1-1.5 * IQR)) | (data > (Q3 + 1.5 * IQR))).any(axis=1)]"
   ]
  },
  {
   "cell_type": "markdown",
   "id": "9eaab6c9",
   "metadata": {},
   "source": [
    "<a name='3.1'></a>\n",
    "## Feature selection"
   ]
  },
  {
   "cell_type": "code",
   "execution_count": 16,
   "id": "3fab8d3e",
   "metadata": {},
   "outputs": [],
   "source": [
    "data['Network']=data['Network'].astype('category')"
   ]
  },
  {
   "cell_type": "code",
   "execution_count": 17,
   "id": "f2b17c3c",
   "metadata": {},
   "outputs": [
    {
     "data": {
      "text/plain": [
       "(4833, 108)"
      ]
     },
     "execution_count": 17,
     "metadata": {},
     "output_type": "execute_result"
    }
   ],
   "source": [
    "data.shape "
   ]
  },
  {
   "cell_type": "code",
   "execution_count": 18,
   "id": "cf20f9f8",
   "metadata": {},
   "outputs": [],
   "source": [
    "from sklearn.decomposition import PCA\n",
    "X= data.drop(columns=['Network'],axis=1)\n",
    "\n",
    "# Standardize the data\n",
    "scaler = StandardScaler()\n",
    "X_scaled = scaler.fit_transform(X)\n",
    "\n",
    "# Compute the covariance matrix\n",
    "cov_matrix = np.cov(X_scaled.T)\n",
    "\n",
    "# Compute the principal components\n",
    "pca = PCA()\n",
    "pca.fit(X_scaled)\n",
    "\n",
    "# Determine the number of components to keep\n",
    "explained_variance = pca.explained_variance_ratio_\n",
    "n_components = np.argmax(np.cumsum(explained_variance) >= 0.95) + 1\n",
    "\n",
    "# Fit PCA with the selected number of components\n",
    "pca = PCA(n_components=n_components)\n",
    "X_pca = pca.fit_transform(X_scaled)\n",
    "\n",
    "# Get the names of the columns\n",
    "component_names = ['PC{}'.format(i+1) for i in range(pca.n_components_)]\n",
    "feature_names = list(X.columns)\n",
    "component_names_and_features = list(zip(component_names, feature_names))"
   ]
  },
  {
   "cell_type": "code",
   "execution_count": 19,
   "id": "c7c27ce1",
   "metadata": {},
   "outputs": [
    {
     "name": "stdout",
     "output_type": "stream",
     "text": [
      "[('PC1', 'Impressions'), ('PC2', 'Organic Impressions'), ('PC3', 'Viral Impressions'), ('PC4', 'Non-viral Impressions'), ('PC5', 'Paid Impressions')]\n"
     ]
    }
   ],
   "source": [
    "print(component_names_and_features)"
   ]
  },
  {
   "cell_type": "code",
   "execution_count": 20,
   "id": "72d1e023",
   "metadata": {},
   "outputs": [],
   "source": [
    "data= data[['Impressions','Organic Impressions','Viral Impressions','Non-viral Impressions','Paid Impressions',\n",
    "           'Fan Impressions','Fan Organic Impressions','Fan Paid Impressions','Non-fan Impressions',\n",
    "           'Non-fan Organic Impressions','Non-fan Paid Impressions','Reach','Organic Reach','Viral Reach','Non-viral Reach',\n",
    "           'Paid Reach','Fan Reach','Fan Paid Reach','Potential Reach','Engagements','Love Reactions','Angry Reactions',\n",
    "           'Follows from Post','Engaged Users','95% Video Views','Unique Shares','Organic Full Video Views',\n",
    "           'Paid Full Video Views','Video View Time (Seconds)','Network']]"
   ]
  },
  {
   "cell_type": "code",
   "execution_count": 21,
   "id": "0ed61075",
   "metadata": {},
   "outputs": [
    {
     "data": {
      "image/png": "[encoded data removed]",
      "text/plain": [
       "<Figure size 2000x1500 with 1 Axes>"
      ]
     },
     "metadata": {},
     "output_type": "display_data"
    }
   ],
   "source": [
    "plt.figure(figsize=[20,15])\n",
    "sns.heatmap(data=data.corr(), cbar=False, annot=True)\n",
    "plt.title('Correlation/Relationship between all numerical variables', fontsize=25);"
   ]
  },
  {
   "cell_type": "code",
   "execution_count": 22,
   "id": "3fb5367b",
   "metadata": {},
   "outputs": [],
   "source": [
    "columns_with_multicollinearity=['Non-fan Impressions','Fan Impressions','Viral Impressions','Fan Reach',\n",
    "                               'Engaged Users','95% Video Views']\n",
    "data=data.drop(columns=['Non-fan Impressions','Fan Impressions','Viral Impressions','Fan Reach',\n",
    "                               'Engaged Users','95% Video Views'],axis=1)"
   ]
  },
  {
   "cell_type": "code",
   "execution_count": 23,
   "id": "ee3f1394",
   "metadata": {},
   "outputs": [
    {
     "data": {
      "text/plain": [
       "(4833, 24)"
      ]
     },
     "execution_count": 23,
     "metadata": {},
     "output_type": "execute_result"
    }
   ],
   "source": [
    "data.shape"
   ]
  },
  {
   "cell_type": "code",
   "execution_count": 24,
   "id": "dc343eee",
   "metadata": {},
   "outputs": [
    {
     "data": {
      "text/plain": [
       "CategoricalDtype(categories=[0, 1, 2, 3], ordered=False)"
      ]
     },
     "execution_count": 24,
     "metadata": {},
     "output_type": "execute_result"
    }
   ],
   "source": [
    "data['Network']=data['Network'].replace({'Facebook':0,'Instagram':1,'LinkedIn':2,'Twitter':3})\n",
    "data['Network']=data['Network'].astype('category')\n",
    "data['Network'].dtype"
   ]
  },
  {
   "cell_type": "code",
   "execution_count": 25,
   "id": "d0db3cd4",
   "metadata": {},
   "outputs": [
    {
     "data": {
      "image/png": "[encoded data removed]",
      "text/plain": [
       "<Figure size 640x480 with 1 Axes>"
      ]
     },
     "metadata": {},
     "output_type": "display_data"
    }
   ],
   "source": [
    "sns.countplot(data=data, x='Network')\n",
    "plt.title('Plot to check for data imbalance');\n"
   ]
  },
  {
   "cell_type": "markdown",
   "id": "e2f42cfb",
   "metadata": {},
   "source": [
    "from sklearn.utils import resample\n",
    "\n",
    "# Create two different DataFrames for the majority and minority classes\n",
    "df_majority = data[(data['Network'] == 1) | (data['Network'] == 2)]\n",
    "df_minority = data[(data['Network'] == 0) | (data['Network'] == 3)]\n",
    "\n",
    "# Upsample the minority class\n",
    "df_minority_upsampled = resample(df_minority,\n",
    "                                 replace=True,         # Sample with replacement\n",
    "                                 n_samples=len(df_majority),  # Match the majority class\n",
    "                                 random_state=42)      # Reproducible results\n",
    "\n",
    "# Combine the majority class with upsampled minority class\n",
    "data = pd.concat([df_minority_upsampled, df_majority])\n"
   ]
  },
  {
   "cell_type": "code",
   "execution_count": 26,
   "id": "0ba73def",
   "metadata": {},
   "outputs": [
    {
     "data": {
      "image/png": "[encoded data removed]",
      "text/plain": [
       "<Figure size 640x480 with 1 Axes>"
      ]
     },
     "metadata": {},
     "output_type": "display_data"
    }
   ],
   "source": [
    "sns.countplot(data=data, x='Network')\n",
    "plt.title('Plot to check for data imbalance');\n"
   ]
  },
  {
   "cell_type": "markdown",
   "id": "961f35fb",
   "metadata": {},
   "source": [
    "<a name='4'></a>\n",
    "## Modeling"
   ]
  },
  {
   "cell_type": "code",
   "execution_count": 27,
   "id": "8e2ec1b5",
   "metadata": {},
   "outputs": [],
   "source": [
    "x= data.drop(columns=['Network'],axis=1)\n",
    "y= data['Network']"
   ]
  },
  {
   "cell_type": "code",
   "execution_count": 28,
   "id": "5e67f383",
   "metadata": {},
   "outputs": [],
   "source": [
    "#Apply SMOTE to balance the dataset\n",
    "#from imblearn.over_sampling import SMOTE\n",
    "#smote = SMOTE(sampling_strategy='minority', random_state=42)\n",
    "#X_resampled, y_resampled = smote.fit_resample(x, y)"
   ]
  },
  {
   "cell_type": "code",
   "execution_count": 29,
   "id": "78f47d3d",
   "metadata": {},
   "outputs": [],
   "source": [
    "from sklearn.model_selection import train_test_split\n",
    "x_train,x_test,y_train,y_test= train_test_split(x,y, random_state=42, test_size=0.20, shuffle=True)"
   ]
  },
  {
   "cell_type": "code",
   "execution_count": 30,
   "id": "d520d093",
   "metadata": {},
   "outputs": [],
   "source": [
    "scaler= StandardScaler()\n",
    "x_train_scaled=scaler.fit_transform(x_train)\n",
    "x_test_scaled=scaler.fit_transform(x_test)"
   ]
  },
  {
   "cell_type": "code",
   "execution_count": 31,
   "id": "8dc2b7e8",
   "metadata": {},
   "outputs": [],
   "source": [
    "#use logistic regression\n",
    "log_model=LogisticRegression()\n",
    "log_model.fit(x_train_scaled, y_train)\n",
    "log_prob= log_model.predict_proba(x_test_scaled)\n",
    "log_pred= log_model.predict(x_test_scaled)"
   ]
  },
  {
   "cell_type": "markdown",
   "id": "c46a3405",
   "metadata": {},
   "source": [
    "### Model evaluation of logistic regression model"
   ]
  },
  {
   "cell_type": "code",
   "execution_count": 32,
   "id": "3f53aab8",
   "metadata": {},
   "outputs": [
    {
     "name": "stdout",
     "output_type": "stream",
     "text": [
      "train_score: 0.42783238489394726\n",
      "test_score: 0.39503619441571874\n",
      "_rmse: 0.9219824869856095\n"
     ]
    }
   ],
   "source": [
    "#get the train and test score \n",
    "from sklearn.metrics import mean_squared_error\n",
    "train_score= log_model.score(x_train_scaled, y_train)\n",
    "test_score= log_model.score(x_test_scaled, y_test)\n",
    "rmse= mean_squared_error(y_test, log_pred, squared=False)\n",
    "\n",
    "\n",
    "\n",
    "\n",
    "print('train_score:', train_score)\n",
    "print('test_score:', test_score)\n",
    "print('_rmse:', rmse)\n"
   ]
  },
  {
   "cell_type": "code",
   "execution_count": 33,
   "id": "6586bd77",
   "metadata": {},
   "outputs": [
    {
     "name": "stdout",
     "output_type": "stream",
     "text": [
      "[[  0 157   0   0]\n",
      " [  0 382  83   0]\n",
      " [  0 266   0   0]\n",
      " [  0  79   0   0]]\n"
     ]
    },
    {
     "name": "stderr",
     "output_type": "stream",
     "text": [
      "C:\\Users\\512GB\\anaconda3\\lib\\site-packages\\sklearn\\metrics\\_classification.py:1469: UndefinedMetricWarning: Precision and F-score are ill-defined and being set to 0.0 in labels with no predicted samples. Use `zero_division` parameter to control this behavior.\n",
      "  _warn_prf(average, modifier, msg_start, len(result))\n",
      "C:\\Users\\512GB\\anaconda3\\lib\\site-packages\\sklearn\\metrics\\_classification.py:1469: UndefinedMetricWarning: Precision and F-score are ill-defined and being set to 0.0 in labels with no predicted samples. Use `zero_division` parameter to control this behavior.\n",
      "  _warn_prf(average, modifier, msg_start, len(result))\n",
      "C:\\Users\\512GB\\anaconda3\\lib\\site-packages\\sklearn\\metrics\\_classification.py:1469: UndefinedMetricWarning: Precision and F-score are ill-defined and being set to 0.0 in labels with no predicted samples. Use `zero_division` parameter to control this behavior.\n",
      "  _warn_prf(average, modifier, msg_start, len(result))\n"
     ]
    }
   ],
   "source": [
    "#use confusion_matrix\n",
    "cm= confusion_matrix(y_test, log_pred)\n",
    "cr= classification_report(y_test, log_pred)\n",
    "print(cm)"
   ]
  },
  {
   "cell_type": "code",
   "execution_count": 34,
   "id": "af10b61f",
   "metadata": {},
   "outputs": [
    {
     "name": "stdout",
     "output_type": "stream",
     "text": [
      "              precision    recall  f1-score   support\n",
      "\n",
      "           0       0.00      0.00      0.00       157\n",
      "           1       0.43      0.82      0.57       465\n",
      "           2       0.00      0.00      0.00       266\n",
      "           3       0.00      0.00      0.00        79\n",
      "\n",
      "    accuracy                           0.40       967\n",
      "   macro avg       0.11      0.21      0.14       967\n",
      "weighted avg       0.21      0.40      0.27       967\n",
      "\n"
     ]
    }
   ],
   "source": [
    "#display the classification metrics using classification report\n",
    "print(cr)"
   ]
  },
  {
   "cell_type": "code",
   "execution_count": 35,
   "id": "11f60599",
   "metadata": {},
   "outputs": [
    {
     "data": {
      "text/plain": [
       "(967, 4)"
      ]
     },
     "execution_count": 35,
     "metadata": {},
     "output_type": "execute_result"
    }
   ],
   "source": [
    "from sklearn.preprocessing import LabelBinarizer\n",
    "\n",
    "label_binarizer = LabelBinarizer().fit(y_train)\n",
    "y_onehot_test = label_binarizer.transform(y_test)\n",
    "y_onehot_test.shape  # (n_samples, n_classes)"
   ]
  },
  {
   "cell_type": "code",
   "execution_count": 36,
   "id": "5d2ab31a",
   "metadata": {},
   "outputs": [
    {
     "name": "stdout",
     "output_type": "stream",
     "text": [
      "[[0 1 0 0]]\n",
      "[[1 0 0 0]]\n",
      "[[0 0 1 0]]\n"
     ]
    }
   ],
   "source": [
    "#check the encoding of a class\n",
    "print(label_binarizer.transform([1]))\n",
    "print(label_binarizer.transform([0]))\n",
    "print(label_binarizer.transform([2]))"
   ]
  },
  {
   "cell_type": "code",
   "execution_count": 37,
   "id": "7ac374b1",
   "metadata": {},
   "outputs": [
    {
     "data": {
      "text/plain": [
       "2"
      ]
     },
     "execution_count": 37,
     "metadata": {},
     "output_type": "execute_result"
    }
   ],
   "source": [
    "#In the following plot we show the resulting ROC curve \n",
    "class_of_interest = 2\n",
    "class_id = np.flatnonzero(label_binarizer.classes_ == class_of_interest)[0]\n",
    "class_id\n"
   ]
  },
  {
   "cell_type": "code",
   "execution_count": 38,
   "id": "fc74f66c",
   "metadata": {},
   "outputs": [
    {
     "data": {
      "image/png": "[encoded data removed]",
      "text/plain": [
       "<Figure size 640x480 with 1 Axes>"
      ]
     },
     "metadata": {},
     "output_type": "display_data"
    }
   ],
   "source": [
    "#create an roc curve to visually see how well the model performs at classification and prediction.\n",
    "\n",
    "import matplotlib.pyplot as plt\n",
    "from sklearn.metrics import RocCurveDisplay\n",
    "y_score= log_model.fit(x_train_scaled, y_train).predict_proba(x_test_scaled)\n",
    "\n",
    "RocCurveDisplay.from_predictions(\n",
    "    y_onehot_test[:, class_id],\n",
    "    y_score[:, class_id],\n",
    "    name=f\"{class_of_interest} vs the rest\",\n",
    "    color=\"darkorange\",\n",
    ")\n",
    "plt.plot([0, 1], [0, 1], \"k--\", label=\"chance level (AUC = 0.5)\")\n",
    "plt.axis(\"square\")\n",
    "plt.xlabel(\"False Positive Rate\")\n",
    "plt.ylabel(\"True Positive Rate\")\n",
    "plt.title(\"One-vs-Rest ROC curves:\\nVery_High vs (High & Low)\")\n",
    "plt.legend()\n",
    "plt.show()"
   ]
  },
  {
   "cell_type": "markdown",
   "id": "14af8632",
   "metadata": {},
   "source": [
    "### Hyperparameter optimization for logistic regression model"
   ]
  },
  {
   "cell_type": "code",
   "execution_count": 39,
   "id": "e5ce3e41",
   "metadata": {},
   "outputs": [],
   "source": [
    "#Perform GridsearchCV to tune best-fit LR model\n",
    "from sklearn.model_selection import GridSearchCV\n",
    "param = {'C': [10**-2, 10**-1, 10**0, 10**1,10**2]}\n",
    "\n",
    "logistic_model= LogisticRegression(penalty='l1', solver='liblinear')\n",
    "\n",
    "a_model=GridSearchCV(estimator=logistic_model, param_grid=param)\n",
    "\n",
    "a_model.fit(x_train_scaled, y_train)\n",
    "\n",
    "#Train a model with best parameters\n",
    "real_model=LogisticRegression(**a_model.best_params_, penalty='l1', solver='liblinear')\n",
    "\n",
    "real_model.fit(x_train_scaled, y_train)\n",
    "y_predicted= real_model.predict(x_test_scaled)\n",
    "prob1= real_model.predict_proba(x_test_scaled)[:,1]\n",
    "prob2= real_model.predict_proba(x_test_scaled)"
   ]
  },
  {
   "cell_type": "markdown",
   "id": "fd27fe47",
   "metadata": {},
   "source": [
    "### DecisionTreeClassifier"
   ]
  },
  {
   "cell_type": "code",
   "execution_count": 40,
   "id": "b0972a15",
   "metadata": {},
   "outputs": [],
   "source": [
    "#Build another model\n",
    "tree= DecisionTreeClassifier()\n",
    "\n",
    "tree.fit(x_train_scaled, y_train)\n",
    "\n",
    "pred_3=tree.predict(x_test_scaled)\n",
    "\n",
    "tree_prob= tree.predict_proba(x_test_scaled)\n",
    "\n"
   ]
  },
  {
   "cell_type": "markdown",
   "id": "4dfb8c2a",
   "metadata": {},
   "source": [
    "###  Model Evaluation"
   ]
  },
  {
   "cell_type": "code",
   "execution_count": 41,
   "id": "35239198",
   "metadata": {},
   "outputs": [
    {
     "name": "stdout",
     "output_type": "stream",
     "text": [
      "t_train_score: 0.7589239524055872\n",
      "t_test_score: 0.4808686659772492\n",
      "t_rmse: 0.8741963364980656\n"
     ]
    }
   ],
   "source": [
    "t_train_score= tree.score(x_train_scaled, y_train)\n",
    "t_test_score= tree.score(x_test_scaled, y_test)\n",
    "t_rmse= mean_squared_error(y_test, pred_3, squared=False)\n",
    "\n",
    "print('t_train_score:', t_train_score)\n",
    "print('t_test_score:', t_test_score)\n",
    "print('t_rmse:', t_rmse)"
   ]
  },
  {
   "cell_type": "code",
   "execution_count": 42,
   "id": "1c546024",
   "metadata": {},
   "outputs": [
    {
     "name": "stdout",
     "output_type": "stream",
     "text": [
      "              precision    recall  f1-score   support\n",
      "\n",
      "           0       0.00      0.00      0.00       157\n",
      "           1       0.48      1.00      0.65       465\n",
      "           2       0.00      0.00      0.00       266\n",
      "           3       0.00      0.00      0.00        79\n",
      "\n",
      "    accuracy                           0.48       967\n",
      "   macro avg       0.12      0.25      0.16       967\n",
      "weighted avg       0.23      0.48      0.31       967\n",
      "\n"
     ]
    },
    {
     "name": "stderr",
     "output_type": "stream",
     "text": [
      "C:\\Users\\512GB\\anaconda3\\lib\\site-packages\\sklearn\\metrics\\_classification.py:1469: UndefinedMetricWarning: Precision and F-score are ill-defined and being set to 0.0 in labels with no predicted samples. Use `zero_division` parameter to control this behavior.\n",
      "  _warn_prf(average, modifier, msg_start, len(result))\n",
      "C:\\Users\\512GB\\anaconda3\\lib\\site-packages\\sklearn\\metrics\\_classification.py:1469: UndefinedMetricWarning: Precision and F-score are ill-defined and being set to 0.0 in labels with no predicted samples. Use `zero_division` parameter to control this behavior.\n",
      "  _warn_prf(average, modifier, msg_start, len(result))\n",
      "C:\\Users\\512GB\\anaconda3\\lib\\site-packages\\sklearn\\metrics\\_classification.py:1469: UndefinedMetricWarning: Precision and F-score are ill-defined and being set to 0.0 in labels with no predicted samples. Use `zero_division` parameter to control this behavior.\n",
      "  _warn_prf(average, modifier, msg_start, len(result))\n"
     ]
    }
   ],
   "source": [
    "classificationreport= classification_report(y_test, pred_3)\n",
    "print(classificationreport)"
   ]
  },
  {
   "cell_type": "markdown",
   "id": "d65429e1",
   "metadata": {},
   "source": [
    "### Performance tuning for Decision tree"
   ]
  },
  {
   "cell_type": "code",
   "execution_count": 43,
   "id": "5e803e7a",
   "metadata": {},
   "outputs": [],
   "source": [
    "class_tree= DecisionTreeClassifier( min_samples_split=50,criterion = 'gini',min_samples_leaf= 50,\n",
    "                                                max_depth=10)\n",
    "\n",
    "class_tree.fit(x_train_scaled, y_train)\n",
    "\n",
    "y_pred=  class_tree.predict(x_test_scaled)"
   ]
  },
  {
   "cell_type": "code",
   "execution_count": 44,
   "id": "85a04314",
   "metadata": {},
   "outputs": [
    {
     "name": "stdout",
     "output_type": "stream",
     "text": [
      "              precision    recall  f1-score   support\n",
      "\n",
      "           0       0.00      0.00      0.00       157\n",
      "           1       0.48      1.00      0.65       465\n",
      "           2       0.00      0.00      0.00       266\n",
      "           3       0.00      0.00      0.00        79\n",
      "\n",
      "    accuracy                           0.48       967\n",
      "   macro avg       0.12      0.25      0.16       967\n",
      "weighted avg       0.23      0.48      0.31       967\n",
      "\n"
     ]
    },
    {
     "name": "stderr",
     "output_type": "stream",
     "text": [
      "C:\\Users\\512GB\\anaconda3\\lib\\site-packages\\sklearn\\metrics\\_classification.py:1469: UndefinedMetricWarning: Precision and F-score are ill-defined and being set to 0.0 in labels with no predicted samples. Use `zero_division` parameter to control this behavior.\n",
      "  _warn_prf(average, modifier, msg_start, len(result))\n",
      "C:\\Users\\512GB\\anaconda3\\lib\\site-packages\\sklearn\\metrics\\_classification.py:1469: UndefinedMetricWarning: Precision and F-score are ill-defined and being set to 0.0 in labels with no predicted samples. Use `zero_division` parameter to control this behavior.\n",
      "  _warn_prf(average, modifier, msg_start, len(result))\n",
      "C:\\Users\\512GB\\anaconda3\\lib\\site-packages\\sklearn\\metrics\\_classification.py:1469: UndefinedMetricWarning: Precision and F-score are ill-defined and being set to 0.0 in labels with no predicted samples. Use `zero_division` parameter to control this behavior.\n",
      "  _warn_prf(average, modifier, msg_start, len(result))\n"
     ]
    }
   ],
   "source": [
    "classificationreport= classification_report(y_test, y_pred)\n",
    "print(classificationreport)"
   ]
  },
  {
   "cell_type": "markdown",
   "id": "c7816152",
   "metadata": {},
   "source": [
    "### Random Forest Model"
   ]
  },
  {
   "cell_type": "code",
   "execution_count": 45,
   "id": "9efb59a2",
   "metadata": {},
   "outputs": [],
   "source": [
    "#Build another model\n",
    "from sklearn.ensemble import RandomForestClassifier\n",
    "rf= RandomForestClassifier()\n",
    "\n",
    "rf.fit(x_train_scaled, y_train)\n",
    "\n",
    "pred_4=rf.predict(x_test_scaled)\n",
    "\n",
    "rf_prob= rf.predict_proba(x_test_scaled)\n",
    "\n"
   ]
  },
  {
   "cell_type": "markdown",
   "id": "7090a0f7",
   "metadata": {},
   "source": [
    "### Model Evalution"
   ]
  },
  {
   "cell_type": "code",
   "execution_count": 46,
   "id": "f1689049",
   "metadata": {},
   "outputs": [
    {
     "name": "stdout",
     "output_type": "stream",
     "text": [
      "t_train_score: 0.7589239524055872\n",
      "t_test_score: 0.4808686659772492\n",
      "t_rmse: 0.8741963364980656\n"
     ]
    }
   ],
   "source": [
    "rf_train_score= rf.score(x_train_scaled, y_train)\n",
    "rf_test_score= rf.score(x_test_scaled, y_test)\n",
    "rf_rmse= mean_squared_error(y_test, pred_4, squared=False)\n",
    "\n",
    "print('t_train_score:', rf_train_score)\n",
    "print('t_test_score:', rf_test_score)\n",
    "print('t_rmse:', rf_rmse)"
   ]
  },
  {
   "cell_type": "code",
   "execution_count": 47,
   "id": "ea960966",
   "metadata": {},
   "outputs": [
    {
     "name": "stdout",
     "output_type": "stream",
     "text": [
      "              precision    recall  f1-score   support\n",
      "\n",
      "           0       0.00      0.00      0.00       157\n",
      "           1       0.48      1.00      0.65       465\n",
      "           2       0.00      0.00      0.00       266\n",
      "           3       0.00      0.00      0.00        79\n",
      "\n",
      "    accuracy                           0.48       967\n",
      "   macro avg       0.12      0.25      0.16       967\n",
      "weighted avg       0.23      0.48      0.31       967\n",
      "\n"
     ]
    },
    {
     "name": "stderr",
     "output_type": "stream",
     "text": [
      "C:\\Users\\512GB\\anaconda3\\lib\\site-packages\\sklearn\\metrics\\_classification.py:1469: UndefinedMetricWarning: Precision and F-score are ill-defined and being set to 0.0 in labels with no predicted samples. Use `zero_division` parameter to control this behavior.\n",
      "  _warn_prf(average, modifier, msg_start, len(result))\n",
      "C:\\Users\\512GB\\anaconda3\\lib\\site-packages\\sklearn\\metrics\\_classification.py:1469: UndefinedMetricWarning: Precision and F-score are ill-defined and being set to 0.0 in labels with no predicted samples. Use `zero_division` parameter to control this behavior.\n",
      "  _warn_prf(average, modifier, msg_start, len(result))\n",
      "C:\\Users\\512GB\\anaconda3\\lib\\site-packages\\sklearn\\metrics\\_classification.py:1469: UndefinedMetricWarning: Precision and F-score are ill-defined and being set to 0.0 in labels with no predicted samples. Use `zero_division` parameter to control this behavior.\n",
      "  _warn_prf(average, modifier, msg_start, len(result))\n"
     ]
    }
   ],
   "source": [
    "classificationreport= classification_report(y_test, pred_4)\n",
    "print(classificationreport)"
   ]
  },
  {
   "cell_type": "markdown",
   "id": "961445b1",
   "metadata": {},
   "source": [
    "### Performance Tuning"
   ]
  },
  {
   "cell_type": "code",
   "execution_count": 48,
   "id": "d27be0c1",
   "metadata": {},
   "outputs": [],
   "source": [
    "from sklearn.ensemble import RandomForestClassifier\n",
    "rf = RandomForestClassifier(n_estimators=50, random_state=32, criterion='gini',min_samples_split=10,\n",
    "                           max_samples=10, max_depth=10,max_features=10)\n",
    "rf.fit(x_train, y_train)\n",
    "\n",
    "#make predictions on validation set\n",
    "rf_preds = rf.predict(x_test)"
   ]
  },
  {
   "cell_type": "code",
   "execution_count": 49,
   "id": "fe5b593d",
   "metadata": {},
   "outputs": [
    {
     "name": "stdout",
     "output_type": "stream",
     "text": [
      "              precision    recall  f1-score   support\n",
      "\n",
      "           0       0.00      0.00      0.00       157\n",
      "           1       0.48      1.00      0.65       465\n",
      "           2       0.00      0.00      0.00       266\n",
      "           3       0.00      0.00      0.00        79\n",
      "\n",
      "    accuracy                           0.48       967\n",
      "   macro avg       0.12      0.25      0.16       967\n",
      "weighted avg       0.23      0.48      0.31       967\n",
      "\n"
     ]
    },
    {
     "name": "stderr",
     "output_type": "stream",
     "text": [
      "C:\\Users\\512GB\\anaconda3\\lib\\site-packages\\sklearn\\base.py:464: UserWarning: X does not have valid feature names, but RandomForestClassifier was fitted with feature names\n",
      "  warnings.warn(\n",
      "C:\\Users\\512GB\\anaconda3\\lib\\site-packages\\sklearn\\metrics\\_classification.py:1469: UndefinedMetricWarning: Precision and F-score are ill-defined and being set to 0.0 in labels with no predicted samples. Use `zero_division` parameter to control this behavior.\n",
      "  _warn_prf(average, modifier, msg_start, len(result))\n",
      "C:\\Users\\512GB\\anaconda3\\lib\\site-packages\\sklearn\\metrics\\_classification.py:1469: UndefinedMetricWarning: Precision and F-score are ill-defined and being set to 0.0 in labels with no predicted samples. Use `zero_division` parameter to control this behavior.\n",
      "  _warn_prf(average, modifier, msg_start, len(result))\n",
      "C:\\Users\\512GB\\anaconda3\\lib\\site-packages\\sklearn\\metrics\\_classification.py:1469: UndefinedMetricWarning: Precision and F-score are ill-defined and being set to 0.0 in labels with no predicted samples. Use `zero_division` parameter to control this behavior.\n",
      "  _warn_prf(average, modifier, msg_start, len(result))\n"
     ]
    }
   ],
   "source": [
    "rf_preds=rf.predict(x_test_scaled)\n",
    "classificationreport= classification_report(y_test, rf_preds)\n",
    "print(classificationreport)"
   ]
  },
  {
   "cell_type": "markdown",
   "id": "39fd4f7a",
   "metadata": {},
   "source": [
    "### XGboostclassifier"
   ]
  },
  {
   "cell_type": "code",
   "execution_count": 50,
   "id": "8ddacf98",
   "metadata": {},
   "outputs": [],
   "source": [
    "#Build another model\n",
    "from xgboost import XGBClassifier \n",
    "xg= XGBClassifier()\n",
    "\n",
    "xg.fit(x_train_scaled, y_train)\n",
    "\n",
    "pred_5=xg.predict(x_test_scaled)\n",
    "\n",
    "xg_prob= xg.predict_proba(x_test_scaled)\n",
    "\n"
   ]
  },
  {
   "cell_type": "code",
   "execution_count": 51,
   "id": "b3b13d61",
   "metadata": {},
   "outputs": [
    {
     "name": "stdout",
     "output_type": "stream",
     "text": [
      "xg_train_score: 0.7589239524055872\n",
      "xg_test_score: 0.4808686659772492\n",
      "xg_rmse: 0.8741963364980656\n"
     ]
    }
   ],
   "source": [
    "xg_train_score= xg.score(x_train_scaled, y_train)\n",
    "xg_test_score= xg.score(x_test_scaled, y_test)\n",
    "xg_rmse= mean_squared_error(y_test, pred_5, squared=False)\n",
    "\n",
    "print('xg_train_score:', xg_train_score)\n",
    "print('xg_test_score:', xg_test_score)\n",
    "print('xg_rmse:', xg_rmse)"
   ]
  },
  {
   "cell_type": "code",
   "execution_count": 52,
   "id": "2a584022",
   "metadata": {},
   "outputs": [
    {
     "name": "stdout",
     "output_type": "stream",
     "text": [
      "              precision    recall  f1-score   support\n",
      "\n",
      "           0       0.00      0.00      0.00       157\n",
      "           1       0.48      1.00      0.65       465\n",
      "           2       0.00      0.00      0.00       266\n",
      "           3       0.00      0.00      0.00        79\n",
      "\n",
      "    accuracy                           0.48       967\n",
      "   macro avg       0.12      0.25      0.16       967\n",
      "weighted avg       0.23      0.48      0.31       967\n",
      "\n"
     ]
    },
    {
     "name": "stderr",
     "output_type": "stream",
     "text": [
      "C:\\Users\\512GB\\anaconda3\\lib\\site-packages\\sklearn\\metrics\\_classification.py:1469: UndefinedMetricWarning: Precision and F-score are ill-defined and being set to 0.0 in labels with no predicted samples. Use `zero_division` parameter to control this behavior.\n",
      "  _warn_prf(average, modifier, msg_start, len(result))\n",
      "C:\\Users\\512GB\\anaconda3\\lib\\site-packages\\sklearn\\metrics\\_classification.py:1469: UndefinedMetricWarning: Precision and F-score are ill-defined and being set to 0.0 in labels with no predicted samples. Use `zero_division` parameter to control this behavior.\n",
      "  _warn_prf(average, modifier, msg_start, len(result))\n",
      "C:\\Users\\512GB\\anaconda3\\lib\\site-packages\\sklearn\\metrics\\_classification.py:1469: UndefinedMetricWarning: Precision and F-score are ill-defined and being set to 0.0 in labels with no predicted samples. Use `zero_division` parameter to control this behavior.\n",
      "  _warn_prf(average, modifier, msg_start, len(result))\n"
     ]
    }
   ],
   "source": [
    "classificationreport= classification_report(y_test, pred_5)\n",
    "print(classificationreport)"
   ]
  },
  {
   "cell_type": "markdown",
   "id": "ca71fee2",
   "metadata": {},
   "source": [
    "### Perfromance Tuning"
   ]
  },
  {
   "cell_type": "code",
   "execution_count": 53,
   "id": "a5f7c52c",
   "metadata": {},
   "outputs": [],
   "source": [
    "xg = XGBClassifier(n_estimators=50, random_state=32, learning_rate=0.2,\n",
    "                           max_depth=10,gamma=0.2,)"
   ]
  },
  {
   "cell_type": "code",
   "execution_count": 54,
   "id": "ad74e14c",
   "metadata": {},
   "outputs": [],
   "source": [
    "xg.fit(x_train_scaled,y_train)\n",
    "pred_5=xg.predict(x_test_scaled)"
   ]
  },
  {
   "cell_type": "code",
   "execution_count": 55,
   "id": "8407d48e",
   "metadata": {},
   "outputs": [
    {
     "name": "stdout",
     "output_type": "stream",
     "text": [
      "              precision    recall  f1-score   support\n",
      "\n",
      "           0       0.00      0.00      0.00       157\n",
      "           1       0.48      1.00      0.65       465\n",
      "           2       0.00      0.00      0.00       266\n",
      "           3       0.00      0.00      0.00        79\n",
      "\n",
      "    accuracy                           0.48       967\n",
      "   macro avg       0.12      0.25      0.16       967\n",
      "weighted avg       0.23      0.48      0.31       967\n",
      "\n"
     ]
    },
    {
     "name": "stderr",
     "output_type": "stream",
     "text": [
      "C:\\Users\\512GB\\anaconda3\\lib\\site-packages\\sklearn\\metrics\\_classification.py:1469: UndefinedMetricWarning: Precision and F-score are ill-defined and being set to 0.0 in labels with no predicted samples. Use `zero_division` parameter to control this behavior.\n",
      "  _warn_prf(average, modifier, msg_start, len(result))\n",
      "C:\\Users\\512GB\\anaconda3\\lib\\site-packages\\sklearn\\metrics\\_classification.py:1469: UndefinedMetricWarning: Precision and F-score are ill-defined and being set to 0.0 in labels with no predicted samples. Use `zero_division` parameter to control this behavior.\n",
      "  _warn_prf(average, modifier, msg_start, len(result))\n",
      "C:\\Users\\512GB\\anaconda3\\lib\\site-packages\\sklearn\\metrics\\_classification.py:1469: UndefinedMetricWarning: Precision and F-score are ill-defined and being set to 0.0 in labels with no predicted samples. Use `zero_division` parameter to control this behavior.\n",
      "  _warn_prf(average, modifier, msg_start, len(result))\n"
     ]
    }
   ],
   "source": [
    "classificationreport= classification_report(y_test, pred_5)\n",
    "print(classificationreport)"
   ]
  },
  {
   "cell_type": "code",
   "execution_count": 56,
   "id": "33481a8f",
   "metadata": {},
   "outputs": [
    {
     "data": {
      "image/png": "[encoded data removed]",
      "text/plain": [
       "<Figure size 640x480 with 1 Axes>"
      ]
     },
     "metadata": {},
     "output_type": "display_data"
    }
   ],
   "source": [
    "# Initialize the models\n",
    "from sklearn.metrics import accuracy_score\n",
    "models = [\n",
    "    ('Decision Tree', class_tree),\n",
    "    ('Random Forest', rf),\n",
    "    ('Logistics_reg', real_model),\n",
    "    ('XGB Classifier', xg)\n",
    "]\n",
    "\n",
    "# Train and evaluate the models\n",
    "scores = []\n",
    "for name, model in models:\n",
    "    model.fit(x_train_scaled, y_train)\n",
    "    y_pred = model.predict(x_test_scaled)\n",
    "    accuracy = accuracy_score(y_test, y_pred)\n",
    "    scores.append((name, accuracy))\n",
    "\n",
    "#bar chart to compare the accuracy of each model\n",
    "names, scores = zip(*scores)\n",
    "x = np.arange(len(names))\n",
    "plt.bar(x, scores, align='center')\n",
    "plt.xticks(x, names)\n",
    "plt.ylabel('Accuracy')\n",
    "plt.title('Comparison of model accuracies')\n",
    "plt.xticks(rotation=45)\n",
    "plt.show()"
   ]
  },
  {
   "cell_type": "code",
   "execution_count": null,
   "id": "2fb85db3",
   "metadata": {},
   "outputs": [],
   "source": []
  }
 ],
 "metadata": {
  "kernelspec": {
   "display_name": "Python 3 (ipykernel)",
   "language": "python",
   "name": "python3"
  },
  "language_info": {
   "codemirror_mode": {
    "name": "ipython",
    "version": 3
   },
   "file_extension": ".py",
   "mimetype": "text/x-python",
   "name": "python",
   "nbconvert_exporter": "python",
   "pygments_lexer": "ipython3",
   "version": "3.9.13"
  }
 },
 "nbformat": 4,
 "nbformat_minor": 5
}
